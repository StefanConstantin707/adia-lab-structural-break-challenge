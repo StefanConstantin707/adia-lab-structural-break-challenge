{
 "cells": [
  {
   "cell_type": "code",
   "id": "initial_id",
   "metadata": {
    "collapsed": true,
    "ExecuteTime": {
     "end_time": "2025-06-23T19:49:43.556822Z",
     "start_time": "2025-06-23T19:49:43.429414Z"
    }
   },
   "source": [
    "import pandas as pd\n",
    "import numpy as np\n",
    "import scipy.stats as st\n",
    "from scipy.stats import PermutationMethod\n",
    "from scipy.stats import entropy\n",
    "from sklearn.feature_selection import mutual_info_regression\n",
    "from src.data.dataLoader import TimeSeriesData"
   ],
   "outputs": [],
   "execution_count": 27
  },
  {
   "metadata": {
    "ExecuteTime": {
     "end_time": "2025-06-23T19:35:11.818507Z",
     "start_time": "2025-06-23T19:35:11.815453Z"
    }
   },
   "cell_type": "code",
   "source": [
    "period_0 = np.random.rand(10000)\n",
    "period_1 = np.random.rand(10000)"
   ],
   "id": "add1745f6e2d6540",
   "outputs": [],
   "execution_count": 2
  },
  {
   "metadata": {
    "ExecuteTime": {
     "end_time": "2025-06-23T19:35:46.228645Z",
     "start_time": "2025-06-23T19:35:46.224633Z"
    }
   },
   "cell_type": "code",
   "outputs": [],
   "execution_count": 3,
   "source": "features = {}",
   "id": "408ede64f8a4dbf5"
  }
 ],
 "metadata": {
  "kernelspec": {
   "display_name": "Python 3",
   "language": "python",
   "name": "python3"
  },
  "language_info": {
   "codemirror_mode": {
    "name": "ipython",
    "version": 2
   },
   "file_extension": ".py",
   "mimetype": "text/x-python",
   "name": "python",
   "nbconvert_exporter": "python",
   "pygments_lexer": "ipython2",
   "version": "2.7.6"
  }
 },
 "nbformat": 4,
 "nbformat_minor": 5
}
