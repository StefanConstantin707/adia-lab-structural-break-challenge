{
 "cells": [
  {
   "cell_type": "code",
   "id": "initial_id",
   "metadata": {
    "collapsed": true,
    "ExecuteTime": {
     "end_time": "2025-08-22T14:59:02.012616Z",
     "start_time": "2025-08-22T14:59:02.006968Z"
    }
   },
   "source": [
    "from sklearn.linear_model import LinearRegression\n",
    "\n",
    "from src.data.dataLoader import StructuralBreakDataLoader\n",
    "# Structural Break Detection: Basic vs Synthetic Data Generation Approach\n",
    "import numpy as np\n",
    "import pandas as pd\n",
    "from sklearn.model_selection import StratifiedKFold, cross_validate, TimeSeriesSplit\n",
    "from sklearn.metrics import roc_auc_score\n",
    "from xgboost import XGBClassifier, XGBRegressor\n",
    "from scipy import stats\n",
    "from scipy.stats import ks_2samp, mannwhitneyu, levene, anderson_ksamp\n",
    "from statsmodels.tsa.ar_model import AutoReg\n",
    "from statsmodels.tsa.arima.model import ARIMA\n",
    "from src.data.sliding_window_dataset import create_sliding_window_dataset, create_test_windows\n",
    "from numpy.lib.stride_tricks import sliding_window_view\n",
    "import warnings\n",
    "warnings.filterwarnings('ignore')\n",
    "\n",
    "# Import your existing data loader\n",
    "import sys\n",
    "sys.path.append('src')  # Adjust path as needed"
   ],
   "outputs": [],
   "execution_count": 92
  },
  {
   "metadata": {
    "ExecuteTime": {
     "end_time": "2025-08-22T14:44:52.601163Z",
     "start_time": "2025-08-22T14:44:47.473537Z"
    }
   },
   "cell_type": "code",
   "source": [
    "data_loader = StructuralBreakDataLoader()\n",
    "data_loader.load_data(use_crunch=False)"
   ],
   "id": "58c9e1c50ab96bd1",
   "outputs": [
    {
     "name": "stderr",
     "output_type": "stream",
     "text": [
      "INFO:src.data.dataLoader:Data loaded successfully from local files\n"
     ]
    },
    {
     "data": {
      "text/plain": [
       "(               value  period\n",
       " id    time                  \n",
       " 0     0    -0.005564       0\n",
       "       1     0.003705       0\n",
       "       2     0.013164       0\n",
       "       3     0.007151       0\n",
       "       4    -0.009979       0\n",
       " ...              ...     ...\n",
       " 10000 2134  0.001137       1\n",
       "       2135  0.003526       1\n",
       "       2136  0.000687       1\n",
       "       2137  0.001640       1\n",
       "       2138  0.001074       1\n",
       " \n",
       " [23715734 rows x 2 columns],\n",
       " id\n",
       " 0        False\n",
       " 1        False\n",
       " 2         True\n",
       " 3        False\n",
       " 4        False\n",
       "          ...  \n",
       " 9996     False\n",
       " 9997     False\n",
       " 9998     False\n",
       " 9999     False\n",
       " 10000     True\n",
       " Name: structural_breakpoint, Length: 10001, dtype: bool,\n",
       "                value  period\n",
       " id    time                  \n",
       " 10001 0     0.010753       0\n",
       "       1    -0.031915       0\n",
       "       2    -0.010989       0\n",
       "       3    -0.011111       0\n",
       "       4     0.011236       0\n",
       " ...              ...     ...\n",
       " 10101 2002  0.002466       1\n",
       "       2003  0.010499       1\n",
       "       2004 -0.026688       1\n",
       "       2005 -0.019126       1\n",
       "       2006  0.020203       1\n",
       " \n",
       " [247618 rows x 2 columns])"
      ]
     },
     "execution_count": 2,
     "metadata": {},
     "output_type": "execute_result"
    }
   ],
   "execution_count": 2
  },
  {
   "metadata": {
    "ExecuteTime": {
     "end_time": "2025-08-22T14:44:55.211583Z",
     "start_time": "2025-08-22T14:44:55.208239Z"
    }
   },
   "cell_type": "code",
   "source": "train_data = data_loader.get_first_n_train_series(10)",
   "id": "8cd957257300bdfd",
   "outputs": [],
   "execution_count": 3
  },
  {
   "metadata": {
    "ExecuteTime": {
     "end_time": "2025-08-22T14:45:24.389569Z",
     "start_time": "2025-08-22T14:45:24.381171Z"
    }
   },
   "cell_type": "code",
   "source": "train_data.keys()",
   "id": "67dbe234bdaab490",
   "outputs": [
    {
     "data": {
      "text/plain": [
       "dict_keys([0, 1, 2, 3, 4, 5, 6, 7, 8, 9])"
      ]
     },
     "execution_count": 8,
     "metadata": {},
     "output_type": "execute_result"
    }
   ],
   "execution_count": 8
  },
  {
   "metadata": {
    "ExecuteTime": {
     "end_time": "2025-08-22T14:48:41.757786Z",
     "start_time": "2025-08-22T14:48:41.750098Z"
    }
   },
   "cell_type": "code",
   "source": "train_data[0]",
   "id": "9a9f7be8cb855128",
   "outputs": [
    {
     "data": {
      "text/plain": [
       "TimeSeriesData(series_id=0, values=array([-0.00556448,  0.00370513,  0.01316445, ...,  0.01015985,\n",
       "        0.00108862,  0.00216036], shape=(1645,)), time_points=array([   0,    1,    2, ..., 1642, 1643, 1644], shape=(1645,)), boundary_point=np.int64(1351), period_0_values=array([-0.00556448,  0.00370513,  0.01316445, ...,  0.0027958 ,\n",
       "        0.00965648,  0.00668773], shape=(1351,)), period_1_values=array([-1.97651807e-02,  1.60380066e-03, -1.25274622e-02,  1.60289429e-03,\n",
       "        2.76789228e-03,  6.20339562e-03,  7.39299494e-03,  6.72915113e-03,\n",
       "       -1.16671161e-02, -5.92896081e-03, -5.23927332e-03, -1.96201889e-03,\n",
       "        7.78133803e-03,  2.21312929e-03, -7.96540950e-03,  9.34355602e-04,\n",
       "        3.99511449e-04, -5.96957717e-04,  9.57164986e-03,  2.13316433e-04,\n",
       "        6.16109821e-03, -1.98798851e-03, -4.56136341e-03,  9.63290658e-03,\n",
       "       -3.18381125e-03, -4.14757093e-03, -7.92851158e-03,  7.72962102e-03,\n",
       "       -3.04451922e-03,  9.72066935e-06, -2.09010086e-03,  3.05772481e-03,\n",
       "       -6.28559216e-04, -1.79969476e-03,  1.06945026e-02,  7.90388953e-04,\n",
       "       -1.34298335e-02,  5.52773352e-03, -4.21431542e-03,  4.90900075e-03,\n",
       "        3.01588456e-03, -9.33657700e-03, -2.02503485e-03, -1.69418944e-03,\n",
       "        4.73466089e-03,  6.37513301e-03,  3.33165216e-04, -2.03865756e-03,\n",
       "        8.06969239e-04,  3.50618537e-03,  2.39325534e-03,  1.27337801e-02,\n",
       "       -4.56726548e-03, -7.20440596e-03, -3.09151555e-04, -1.16667073e-02,\n",
       "       -7.62737317e-04,  3.33686828e-03, -1.05820422e-02,  1.33649812e-02,\n",
       "       -3.97950559e-03,  1.12031861e-02, -5.75425346e-03, -1.95936881e-04,\n",
       "        1.16819469e-02, -1.23724143e-03, -7.89814369e-03, -2.47544029e-03,\n",
       "       -7.18881916e-03, -8.57785469e-03,  6.69871192e-03,  3.38361352e-03,\n",
       "        1.00996431e-02, -5.03285841e-03, -4.26730635e-03, -2.59422176e-04,\n",
       "        1.69560573e-03,  1.82695002e-05, -1.10692289e-02, -5.76573332e-03,\n",
       "        6.27066684e-03, -2.37499085e-03, -3.21235026e-03, -2.69883118e-03,\n",
       "       -4.44341514e-04,  1.55558637e-02, -1.27781612e-02,  1.14186064e-02,\n",
       "        8.80476798e-03, -3.62498081e-03, -7.72854361e-03, -2.79244758e-04,\n",
       "        3.17009379e-03,  1.26860542e-03,  6.92267519e-03, -3.09885078e-04,\n",
       "        1.47961577e-03,  6.35482480e-03, -1.49524013e-02, -7.50040143e-03,\n",
       "       -2.08218657e-03, -7.68957796e-03,  1.06467939e-02,  1.04310917e-02,\n",
       "        2.40316008e-03,  4.57079688e-03,  6.81704852e-03, -1.07207945e-02,\n",
       "       -8.43544636e-03,  1.53613375e-03,  3.71154134e-03,  1.06616304e-03,\n",
       "       -1.91093526e-02,  1.41884461e-02, -1.68891348e-02,  7.23142987e-03,\n",
       "       -6.82794490e-03,  1.12158412e-02,  3.65650944e-03,  6.80982529e-03,\n",
       "        7.02798245e-05, -1.43793920e-02,  1.03154581e-02, -7.27142837e-03,\n",
       "       -9.55115078e-03,  5.43910413e-03,  3.59716443e-03, -3.03295798e-03,\n",
       "        1.02241753e-02,  4.11380471e-03, -1.68027356e-03,  1.25318224e-02,\n",
       "        6.24487325e-03, -6.37589033e-03, -9.59281441e-03,  2.11278655e-03,\n",
       "       -4.11054675e-03,  1.62613896e-03, -6.14700238e-03, -3.40746619e-03,\n",
       "       -1.16984626e-02,  1.22229798e-02, -2.03544982e-03,  2.49232667e-03,\n",
       "       -1.10097280e-02,  4.43970347e-03,  1.22603164e-03, -9.75201638e-04,\n",
       "        1.19528231e-02,  9.44653677e-03, -1.62064681e-03, -6.86598113e-03,\n",
       "       -1.43388600e-03, -8.99322629e-04,  2.85375162e-03, -1.35249123e-02,\n",
       "        3.61621098e-03, -9.69715561e-03,  3.15442658e-03,  4.31375773e-03,\n",
       "       -1.60873489e-03,  1.32598884e-02,  8.69525763e-04,  3.57159984e-03,\n",
       "        6.30561825e-03, -1.15229297e-03, -3.63555325e-03, -1.15190864e-02,\n",
       "       -5.71009788e-03, -1.06520357e-03, -3.28786093e-03,  1.70563270e-02,\n",
       "        5.81267590e-03, -7.25884677e-03,  2.35826519e-03, -6.40468732e-03,\n",
       "        2.79968689e-03,  4.65005847e-03,  5.92369184e-03,  1.37489980e-03,\n",
       "       -1.02957019e-03, -7.31976633e-03,  9.54422539e-03, -1.90235278e-03,\n",
       "       -4.49219845e-03,  9.20719313e-04, -2.76840554e-03, -5.25231969e-03,\n",
       "       -9.04732029e-03,  1.05633881e-02,  1.04165725e-02, -9.23481453e-03,\n",
       "       -8.06086577e-03, -1.18111537e-02,  2.50995270e-03,  5.32485486e-03,\n",
       "        8.73569920e-03,  2.36479469e-03,  6.51020424e-03, -1.31678258e-02,\n",
       "        6.28161545e-03,  4.09190544e-03,  7.49940525e-04, -6.08058468e-03,\n",
       "       -3.83237541e-03,  5.00151161e-03,  5.81651762e-03, -1.54984053e-03,\n",
       "       -3.15224030e-03, -4.07314806e-04, -2.99892504e-03,  6.36129441e-03,\n",
       "        2.01269174e-03,  1.75891854e-03, -1.52705883e-02,  5.93483619e-05,\n",
       "        9.02012780e-03, -1.35751264e-02, -2.19774484e-03,  1.32862989e-02,\n",
       "       -1.48120667e-03,  1.94230498e-04,  4.88017704e-03, -4.91294512e-03,\n",
       "       -5.87433117e-03, -8.07563316e-04,  4.05471995e-03, -7.18409309e-03,\n",
       "       -5.09020769e-03,  5.94057191e-03,  2.88625162e-03,  7.44192299e-03,\n",
       "        4.16029256e-03,  4.24654584e-03,  6.07713627e-03, -2.70502221e-03,\n",
       "       -3.03677917e-03, -4.49736036e-03, -1.49792732e-03, -6.21573143e-03,\n",
       "       -3.07641566e-03,  1.18726420e-06, -5.14130670e-04, -6.68541514e-04,\n",
       "        8.11877275e-03, -6.02205031e-03, -5.27849974e-03,  8.68679115e-03,\n",
       "        7.12516407e-03,  1.27244930e-02, -5.28910565e-03, -5.86541534e-03,\n",
       "       -9.41182228e-03, -2.18093680e-03, -6.43036311e-03, -6.69729967e-03,\n",
       "        9.82010810e-03,  1.08011660e-02,  5.17706985e-04, -7.03094050e-03,\n",
       "       -2.20198199e-03,  3.65376878e-03,  1.06958360e-02, -4.96244127e-03,\n",
       "       -3.26705492e-03, -2.18628143e-03,  2.87558283e-03, -8.14157249e-03,\n",
       "        2.13183168e-03,  6.63036585e-05, -2.97448332e-03, -6.49647672e-03,\n",
       "        1.10659403e-02,  5.28686465e-03, -5.71309795e-04,  6.37293867e-03,\n",
       "       -4.91949669e-03, -8.15308328e-03,  2.09322351e-03,  1.03993545e-02,\n",
       "        2.88098933e-03, -7.17699057e-03, -1.09107447e-03, -3.18562230e-03,\n",
       "        1.10905987e-02, -1.47320280e-05,  1.68650034e-03,  2.98886556e-03,\n",
       "       -7.11155791e-03,  1.63781799e-03,  2.57316951e-04,  1.01598544e-02,\n",
       "        1.08862460e-03,  2.16036182e-03]), has_break=np.False_)"
      ]
     },
     "execution_count": 16,
     "metadata": {},
     "output_type": "execute_result"
    }
   ],
   "execution_count": 16
  },
  {
   "metadata": {
    "ExecuteTime": {
     "end_time": "2025-08-22T14:46:04.193509Z",
     "start_time": "2025-08-22T14:46:04.185939Z"
    }
   },
   "cell_type": "code",
   "source": "model_ar = LinearRegression()",
   "id": "e80c620d97cb5ac1",
   "outputs": [],
   "execution_count": 10
  },
  {
   "metadata": {
    "ExecuteTime": {
     "end_time": "2025-08-22T14:57:02.082504Z",
     "start_time": "2025-08-22T14:57:02.069652Z"
    }
   },
   "cell_type": "code",
   "source": [
    "window_size=8\n",
    "data = sliding_window_view(train_data[0].values, window_size)\n",
    "x = data[:-window_size]\n",
    "y = data[window_size:]\n",
    "cv = TimeSeriesSplit(n_splits=5)\n",
    "results = cross_validate(estimator=model_ar, X=x, y=y, cv=cv, scoring='r2')\n",
    "mean_r2 = np.mean(results[\"test_score\"])\n",
    "std_r2 = np.std(results[\"test_score\"])\n",
    "\n",
    "print(f\"Cross-validated R²: {mean_r2:.4f} ± {std_r2:.4f}\")"
   ],
   "id": "f001244772f13ddd",
   "outputs": [
    {
     "name": "stdout",
     "output_type": "stream",
     "text": [
      "Cross-validated R²: 0.0188 ± 0.0094\n"
     ]
    }
   ],
   "execution_count": 80
  },
  {
   "metadata": {},
   "cell_type": "code",
   "outputs": [],
   "execution_count": null,
   "source": [
    "from arch import arch_model\n",
    "\n",
    "window_size=8\n",
    "data = sliding_window_view(train_data[0].values, window_size)\n",
    "x = data[:-window_size]\n",
    "y = data[window_size:]\n",
    "cv = TimeSeriesSplit(n_splits=5)\n",
    "\n",
    "model_ar=arch_model(x=x, p=1, o=1, q=1)\n",
    "\n",
    "results = cross_validate(estimator=model_ar, X=x, y=y, cv=cv, scoring='r2')\n",
    "mean_r2 = np.mean(results[\"test_score\"])\n",
    "std_r2 = np.std(results[\"test_score\"])\n",
    "\n",
    "print(f\"Cross-validated R²: {mean_r2:.4f} ± {std_r2:.4f}\")"
   ],
   "id": "984a6f5acbdfd262"
  },
  {
   "metadata": {
    "ExecuteTime": {
     "end_time": "2025-08-22T14:58:41.454727Z",
     "start_time": "2025-08-22T14:58:35.814870Z"
    }
   },
   "cell_type": "code",
   "source": [
    "from sklearn.ensemble import RandomForestRegressor\n",
    "from sklearn.model_selection import cross_validate, TimeSeriesSplit\n",
    "from numpy.lib.stride_tricks import sliding_window_view\n",
    "import numpy as np\n",
    "\n",
    "# Parameters\n",
    "window_size = 1\n",
    "cv = TimeSeriesSplit(n_splits=5)\n",
    "\n",
    "# Prepare data\n",
    "data = sliding_window_view(train_data[0].values, window_size)\n",
    "x = data[:-window_size]\n",
    "y = data[window_size:]\n",
    "\n",
    "# Define model\n",
    "model_rf = RandomForestRegressor(n_estimators=1000, random_state=42)\n",
    "\n",
    "# Cross-validation\n",
    "results = cross_validate(estimator=model_rf, X=x, y=y, cv=cv, scoring='r2')\n",
    "\n",
    "# Mean & std of R²\n",
    "mean_r2 = np.mean(results[\"test_score\"])\n",
    "std_r2 = np.std(results[\"test_score\"])\n",
    "\n",
    "print(f\"Random Forest Cross-validated R²: {mean_r2:.4f} ± {std_r2:.4f}\")\n"
   ],
   "id": "603b6ccf31b87468",
   "outputs": [
    {
     "name": "stdout",
     "output_type": "stream",
     "text": [
      "Random Forest Cross-validated R²: -0.3767 ± 0.0904\n"
     ]
    }
   ],
   "execution_count": 90
  },
  {
   "metadata": {
    "ExecuteTime": {
     "end_time": "2025-08-22T15:14:14.323220Z",
     "start_time": "2025-08-22T15:14:11.049Z"
    }
   },
   "cell_type": "code",
   "source": [
    "from sklearn.ensemble import RandomForestRegressor\n",
    "from sklearn.model_selection import cross_validate, TimeSeriesSplit\n",
    "from numpy.lib.stride_tricks import sliding_window_view\n",
    "import numpy as np\n",
    "\n",
    "# Parameters\n",
    "window_size = 10\n",
    "cv = TimeSeriesSplit(n_splits=5)\n",
    "\n",
    "# Prepare data\n",
    "data = sliding_window_view(train_data[0].values, window_size)\n",
    "data = np.abs(data)\n",
    "x = data[:-window_size]\n",
    "y = data[window_size:]\n",
    "\n",
    "# Define model\n",
    "model_rf = XGBRegressor(learning_rate=0.001)\n",
    "\n",
    "# Cross-validation\n",
    "results = cross_validate(estimator=model_rf, X=x, y=y, cv=cv, scoring='r2')\n",
    "\n",
    "# Mean & std of R²\n",
    "mean_r2 = np.mean(results[\"test_score\"])\n",
    "std_r2 = np.std(results[\"test_score\"])\n",
    "\n",
    "print(f\"Random Forest Cross-validated R²: {mean_r2:.4f} ± {std_r2:.4f}\")\n"
   ],
   "id": "c1eb7a644f356fc9",
   "outputs": [
    {
     "name": "stdout",
     "output_type": "stream",
     "text": [
      "Random Forest Cross-validated R²: -0.0104 ± 0.0151\n"
     ]
    }
   ],
   "execution_count": 115
  },
  {
   "metadata": {
    "ExecuteTime": {
     "end_time": "2025-08-22T15:17:08.389915Z",
     "start_time": "2025-08-22T15:17:08.328604Z"
    }
   },
   "cell_type": "code",
   "source": [
    "import seaborn as sns\n",
    "sns.scatterplot(np.abs(train_data[5].values)[:100])"
   ],
   "id": "1fc73accad6a5ee0",
   "outputs": [
    {
     "data": {
      "text/plain": [
       "<Axes: >"
      ]
     },
     "execution_count": 137,
     "metadata": {},
     "output_type": "execute_result"
    },
    {
     "data": {
      "text/plain": [
       "<Figure size 640x480 with 1 Axes>"
      ],
      "image/png": "[encoded data removed]"
     },
     "metadata": {},
     "output_type": "display_data"
    }
   ],
   "execution_count": 137
  }
 ],
 "metadata": {
  "kernelspec": {
   "display_name": "Python 3",
   "language": "python",
   "name": "python3"
  },
  "language_info": {
   "codemirror_mode": {
    "name": "ipython",
    "version": 2
   },
   "file_extension": ".py",
   "mimetype": "text/x-python",
   "name": "python",
   "nbconvert_exporter": "python",
   "pygments_lexer": "ipython2",
   "version": "2.7.6"
  }
 },
 "nbformat": 4,
 "nbformat_minor": 5
}
