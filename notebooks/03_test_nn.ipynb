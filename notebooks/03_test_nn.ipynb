{
 "cells": [
  {
   "cell_type": "code",
   "id": "initial_id",
   "metadata": {
    "collapsed": true,
    "ExecuteTime": {
     "end_time": "2025-08-28T09:14:31.094730Z",
     "start_time": "2025-08-28T09:14:27.530680Z"
    }
   },
   "source": [
    "from torch.utils.data import DataLoader, random_split\n",
    "from src.data.dataLoader import StructuralBreakDataLoader\n",
    "from src.data.sliding_window_dataset import create_dataset_for_training, create_dataset_for_testing\n",
    "\n",
    "from sklearn.metrics import roc_auc_score\n",
    "import torch\n",
    "import torch.nn as nn"
   ],
   "outputs": [
    {
     "name": "stdout",
     "output_type": "stream",
     "text": [
      "[1.  0.5 0.  0.  0. ]\n",
      "[1.  0.5 0.  0.  0. ]\n",
      "[0.   0.75 1.   1.   1.  ]\n",
      "[0.   0.75 1.   1.   1.  ]\n",
      "[1.   0.25 0.   0.   0.  ]\n",
      "[1.   0.25 0.   0.   0.  ]\n",
      "[0.01002513 0.1026334  0.58578644 1.36754447 1.8       ]\n",
      "[0.01002513 0.1026334  0.58578644 1.36754447 1.8       ]\n",
      "[1.8        1.36754447 0.58578644 0.1026334  0.01002513]\n",
      "[1.8        1.36754447 0.58578644 0.1026334  0.01002513]\n",
      "(np.float64(0.6666666666666667), np.float64(0.22222222222222243), np.float64(0.5656854249492306), np.float64(-0.5999999999999694))\n",
      "(np.float64(0.6666666666666666), np.float64(0.2222222222222222), np.float64(0.565685424949238), np.float64(-0.6000000000000001))\n",
      "0.49999999999999983\n",
      "0.5\n",
      "25.0\n",
      "shape > -1 does not hold\n",
      "-20.0\n",
      "[ 418.58899201  440.00217763  464.27607288  484.75892676  506.31579784\n",
      "  525.48941849  562.66049068  590.09277599  629.90494282  685.50384415\n",
      "  736.48619201  817.96296265  906.25723079 1033.62566411 1066.63326513\n",
      " 1241.38903651 1426.95388339 1872.75922624  210.69896517    0.        ]\n",
      "[ 115.80923845  116.42705241  116.59772258  123.42522593  132.16578777\n",
      "  146.74655364  147.11043991  162.95973081  172.32196198  173.98714636\n",
      "  191.55518292  191.91021139  205.86131359  207.95819894  347.22154195\n",
      "  385.79242359  510.57483584  540.42078745 3138.86066165 3560.25859198]\n",
      "[1. 2. 3. 4. 5. 6. 7. 8. 9.]\n",
      "[4.  3.5 3.  2.5 2.  1.5 1.  0.5 0. ]\n",
      "[5.  5.5 6.  6.5 7.  7.5 8.  8.5 9. ]\n",
      "1.1410777703680384\n",
      "[-1.38777878e-17  5.09160434e-01  7.97884561e-01  1.14107777e+00]\n",
      "4.263256414560601e-19 0.5072425490407022 0.7964998861006747 1.1400353602530005\n"
     ]
    },
    {
     "data": {
      "text/plain": [
       "<Figure size 640x480 with 1 Axes>"
      ],
      "image/png": "[encoded data removed]"
     },
     "metadata": {},
     "output_type": "display_data"
    }
   ],
   "execution_count": 4
  },
  {
   "metadata": {
    "ExecuteTime": {
     "end_time": "2025-08-28T09:14:32.800620Z",
     "start_time": "2025-08-28T09:14:32.786304Z"
    }
   },
   "cell_type": "code",
   "source": [
    "import torch\n",
    "from torch.utils.data import Dataset\n",
    "from typing import Dict, Tuple\n",
    "\n",
    "\n",
    "class SlidingWindowDataset(Dataset):\n",
    "    \"\"\"PyTorch Dataset for sliding window structural break detection\"\"\"\n",
    "\n",
    "    def __init__(self, test_data_dict: Dict, window_size: int = 100):\n",
    "        self.data, self.labels = self.create_data_tensor(test_data_dict, window_size)\n",
    "\n",
    "    def __len__(self):\n",
    "        return self.data.shape[0]\n",
    "\n",
    "    def __getitem__(self, idx):\n",
    "        sample = self.data[idx]\n",
    "        label = self.labels[idx]\n",
    "        return sample, label\n",
    "\n",
    "    def create_data_tensor(\n",
    "        self,\n",
    "        test_data_dict: Dict,\n",
    "        window_size: int = 100,\n",
    "    ) -> Tuple[torch.Tensor, torch.Tensor]:\n",
    "        \n",
    "        len_data = len(test_data_dict)\n",
    "        data = torch.empty(size=(len_data, window_size))\n",
    "        labels = torch.empty(size=(len_data,))\n",
    "\n",
    "        i = 0\n",
    "        for series_id, ts_obj in test_data_dict.items():\n",
    "            len_pre_post = window_size // 2\n",
    "\n",
    "            data[i, :len_pre_post] = torch.from_numpy(ts_obj.period_0_values[-len_pre_post:]).float()\n",
    "            data[i, len_pre_post:] = torch.from_numpy(ts_obj.period_1_values[:len_pre_post]).float()\n",
    "            \n",
    "            labels[i] = torch.tensor(ts_obj.has_break, dtype=torch.float32)\n",
    "            i += 1\n",
    "\n",
    "        return data, labels"
   ],
   "id": "87fa83145efa74f0",
   "outputs": [],
   "execution_count": 5
  },
  {
   "metadata": {
    "ExecuteTime": {
     "end_time": "2025-08-28T10:38:56.463556Z",
     "start_time": "2025-08-28T10:38:56.455320Z"
    }
   },
   "cell_type": "code",
   "source": "window_size = 128",
   "id": "3c023ae08ca87149",
   "outputs": [],
   "execution_count": 50
  },
  {
   "metadata": {
    "ExecuteTime": {
     "end_time": "2025-08-28T10:39:05.093578Z",
     "start_time": "2025-08-28T10:38:57.417372Z"
    }
   },
   "cell_type": "code",
   "source": [
    "from torch.utils.data import DataLoader\n",
    "\n",
    "# Load data\n",
    "data_handler = StructuralBreakDataLoader()\n",
    "data_handler.load_data(use_crunch=False)\n",
    "\n",
    "# Split into train and test dicts\n",
    "train_dict, test_dict = data_handler.create_train_val_split(0.2)\n",
    "\n",
    "# Create datasets\n",
    "train_dataset = SlidingWindowDataset(train_dict, window_size=window_size)\n",
    "test_dataset = SlidingWindowDataset(test_dict, window_size=window_size)"
   ],
   "id": "4c7387414c8fba73",
   "outputs": [
    {
     "name": "stderr",
     "output_type": "stream",
     "text": [
      "INFO:src.data.dataLoader:Data loaded successfully from local files\n"
     ]
    }
   ],
   "execution_count": 51
  },
  {
   "metadata": {
    "ExecuteTime": {
     "end_time": "2025-08-28T10:39:05.104024Z",
     "start_time": "2025-08-28T10:39:05.098771Z"
    }
   },
   "cell_type": "code",
   "source": [
    "# Create dataloaders\n",
    "train_loader = DataLoader(train_dataset, batch_size=64, shuffle=True)\n",
    "test_loader = DataLoader(test_dataset, batch_size=64, shuffle=False)"
   ],
   "id": "cc59cc16c04f41a0",
   "outputs": [],
   "execution_count": 52
  },
  {
   "metadata": {
    "ExecuteTime": {
     "end_time": "2025-08-28T09:14:50.384549Z",
     "start_time": "2025-08-28T09:14:50.371587Z"
    }
   },
   "cell_type": "code",
   "source": [
    "class SimpleNN(nn.Module):\n",
    "    def __init__(self, input_size, hidden_dim, output_size, num_layers, noise=0.0, dropout_prob=0.0):\n",
    "        \"\"\"\n",
    "        Parameters:\n",
    "        - input_size: Number of input features.\n",
    "        - hidden_dim: Dimension of the hidden layers.\n",
    "        - output_size: Number of output features.\n",
    "        - use_noise: Whether to apply Gaussian noise to the input.\n",
    "        - dropout_prob: Dropout probability. Set to 0.0 to disable dropout.\n",
    "        - num_hidden_layers: Number of fully connected hidden layers.\n",
    "        \"\"\"\n",
    "        super(SimpleNN, self).__init__()\n",
    "\n",
    "        self.input_size = input_size\n",
    "        self.hidden_dim = hidden_dim\n",
    "        self.output_size = output_size\n",
    "\n",
    "        self.dropout_prob = dropout_prob\n",
    "\n",
    "        # Define layers dynamically using nn.Sequential\n",
    "        layers = []\n",
    "\n",
    "        # layers.append(GaussianNoise(std=noise))\n",
    "\n",
    "        # Input layer\n",
    "        layers.append(nn.Linear(self.input_size, hidden_dim))\n",
    "        layers.append(nn.ReLU())\n",
    "\n",
    "        # Add additional hidden layers\n",
    "        for _ in range(num_layers - 1):\n",
    "            layers.append(nn.Linear(hidden_dim, hidden_dim))\n",
    "            layers.append(nn.ReLU())\n",
    "            layers.append(nn.Dropout(dropout_prob))\n",
    "\n",
    "        # Output layer\n",
    "        layers.append(nn.Linear(hidden_dim, output_size))\n",
    "\n",
    "        # Combine into a Sequential module\n",
    "        self.network = nn.Sequential(*layers)\n",
    "\n",
    "    def forward(self, x):\n",
    "        # Pass the input through the sequential layers\n",
    "        out = self.network(x)\n",
    "        return out\n"
   ],
   "id": "d77c4c8d88dd54b5",
   "outputs": [],
   "execution_count": 10
  },
  {
   "metadata": {
    "ExecuteTime": {
     "end_time": "2025-08-28T09:14:52.966243Z",
     "start_time": "2025-08-28T09:14:52.953006Z"
    }
   },
   "cell_type": "code",
   "source": [
    "class StructuralBreakCNN(nn.Module):\n",
    "    def __init__(self, input_size, num_filters=64, kernel_sizes=[3], \n",
    "                 hidden_dim=128, dropout_prob=0.2, output_size=1):\n",
    "        \"\"\"\n",
    "        CNN for structural break detection in time series\n",
    "        \n",
    "        Parameters:\n",
    "        - input_size: Length of input sequence (window_size)\n",
    "        - num_filters: Number of filters per convolutional layer\n",
    "        - kernel_sizes: List of kernel sizes for different conv layers\n",
    "        - hidden_dim: Dimension of fully connected layers\n",
    "        - dropout_prob: Dropout probability\n",
    "        - output_size: Number of output features (1 for binary classification)\n",
    "        \"\"\"\n",
    "        super(StructuralBreakCNN, self).__init__()\n",
    "        \n",
    "        self.input_size = input_size\n",
    "        self.num_filters = num_filters\n",
    "        self.kernel_sizes = kernel_sizes\n",
    "        \n",
    "        # Convolutional layers with different kernel sizes\n",
    "        self.conv_layers = nn.ModuleList()\n",
    "        for kernel_size in kernel_sizes:\n",
    "            conv_block = nn.Sequential(\n",
    "                nn.Conv1d(in_channels=1, out_channels=num_filters, \n",
    "                         kernel_size=kernel_size, padding=kernel_size//2),\n",
    "                nn.BatchNorm1d(num_filters),\n",
    "                nn.ReLU(),\n",
    "                nn.MaxPool1d(kernel_size=2, stride=2),\n",
    "                nn.Dropout(dropout_prob)\n",
    "            )\n",
    "            self.conv_layers.append(conv_block)\n",
    "        \n",
    "        # Calculate the size after convolutions and pooling\n",
    "        # After each MaxPool1d with kernel_size=2, length is roughly halved\n",
    "        conv_output_size = (input_size // 2) * num_filters * len(kernel_sizes)\n",
    "        \n",
    "        # Fully connected layers\n",
    "        self.fc_layers = nn.Sequential(\n",
    "            nn.Linear(conv_output_size, hidden_dim),\n",
    "            nn.ReLU(),\n",
    "            nn.Dropout(dropout_prob),\n",
    "            nn.Linear(hidden_dim, hidden_dim // 2),\n",
    "            nn.ReLU(),\n",
    "            nn.Dropout(dropout_prob),\n",
    "            nn.Linear(hidden_dim // 2, output_size)\n",
    "        )\n",
    "        \n",
    "    def forward(self, x):\n",
    "        # x shape: (batch_size, sequence_length)\n",
    "        # Reshape for Conv1d: (batch_size, channels, sequence_length)\n",
    "        x = x.unsqueeze(1)  # (batch_size, 1, sequence_length)\n",
    "        \n",
    "        # Apply multiple convolutional branches\n",
    "        conv_outputs = []\n",
    "        for conv_layer in self.conv_layers:\n",
    "            conv_out = conv_layer(x)  # (batch_size, num_filters, reduced_length)\n",
    "            conv_outputs.append(conv_out)\n",
    "        \n",
    "        # Concatenate outputs from different kernel sizes\n",
    "        x = torch.cat(conv_outputs, dim=1)  # (batch_size, num_filters*len(kernel_sizes), reduced_length)\n",
    "        \n",
    "        # Flatten for fully connected layers\n",
    "        x = x.view(x.size(0), -1)  # (batch_size, flattened_features)\n",
    "        \n",
    "        # Apply fully connected layers\n",
    "        x = self.fc_layers(x)\n",
    "        \n",
    "        return x"
   ],
   "id": "17fff9b01f2ba8f0",
   "outputs": [],
   "execution_count": 11
  },
  {
   "metadata": {
    "ExecuteTime": {
     "end_time": "2025-08-28T10:37:44.238532Z",
     "start_time": "2025-08-28T10:37:44.218857Z"
    }
   },
   "cell_type": "code",
   "source": [
    "from torch import Tensor\n",
    "import torch\n",
    "import torch.nn as nn\n",
    "import math\n",
    "\n",
    "class PositionalEncoding(nn.Module):\n",
    "\n",
    "    def __init__(self, d_model: int, dropout: float = 0.1, max_len: int = 5000):\n",
    "        super().__init__()\n",
    "        self.dropout = nn.Dropout(p=dropout)\n",
    "\n",
    "        position = torch.arange(max_len).unsqueeze(1)\n",
    "        div_term = torch.exp(torch.arange(0, d_model, 2) * (-math.log(10000.0) / d_model))\n",
    "        pe = torch.zeros(max_len, 1, d_model)\n",
    "        pe[:, 0, 0::2] = torch.sin(position * div_term)\n",
    "        pe[:, 0, 1::2] = torch.cos(position * div_term)\n",
    "        self.register_buffer('pe', pe)\n",
    "\n",
    "    def forward(self, x: Tensor) -> Tensor:\n",
    "        \"\"\"\n",
    "        Arguments:\n",
    "            x: Tensor, shape ``[seq_len, batch_size, embedding_dim]``\n",
    "        \"\"\"\n",
    "        x = x + self.pe[:x.size(0)]\n",
    "        return self.dropout(x)\n",
    "\n",
    "class StandardTransformer(nn.Module):\n",
    "    def __init__(self, input_size, d_model=128, nhead=8, num_layers=4, \n",
    "                 dim_feedforward=512, dropout_prob=0.1, output_size=1):\n",
    "        \"\"\"\n",
    "        Standard Transformer for structural break detection\n",
    "        \n",
    "        Parameters:\n",
    "        - input_size: Length of input sequence (window_size)\n",
    "        - d_model: Dimension of model embeddings\n",
    "        - nhead: Number of attention heads\n",
    "        - num_layers: Number of transformer layers\n",
    "        - dim_feedforward: Dimension of feedforward network\n",
    "        - dropout_prob: Dropout probability\n",
    "        - output_size: Number of output features (1 for binary classification)\n",
    "        \"\"\"\n",
    "        super(StandardTransformer, self).__init__()\n",
    "        \n",
    "        self.d_model = d_model\n",
    "        self.input_size = input_size\n",
    "        \n",
    "        # Input projection layer (1 feature -> d_model)\n",
    "        self.input_projection = nn.Conv1d(in_channels=2, out_channels=d_model, kernel_size=3, padding=1, stride=1)\n",
    "        \n",
    "        # Positional encoding\n",
    "        self.pos_encoder = PositionalEncoding(d_model, dropout=dropout_prob, max_len=input_size)\n",
    "        \n",
    "        # Transformer encoder\n",
    "        encoder_layer = nn.TransformerEncoderLayer(\n",
    "            d_model=d_model,\n",
    "            nhead=nhead,\n",
    "            dim_feedforward=dim_feedforward,\n",
    "            dropout=dropout_prob,\n",
    "            activation='relu',\n",
    "            batch_first=True\n",
    "        )\n",
    "        self.transformer_encoder = nn.TransformerEncoder(encoder_layer, num_layers=num_layers)\n",
    "        \n",
    "        # Classification head\n",
    "        self.classifier = nn.Sequential(\n",
    "            nn.Linear(d_model, d_model // 2),\n",
    "            nn.ReLU(),\n",
    "            nn.Dropout(dropout_prob),\n",
    "            nn.Linear(d_model // 2, output_size)\n",
    "        )\n",
    "        \n",
    "        self.dropout = nn.Dropout(dropout_prob)\n",
    "        \n",
    "    def forward(self, x):\n",
    "        # Handle different input shapes\n",
    "        if len(x.shape) == 2:\n",
    "            # x shape: (batch_size, window_size) -> add channel dimension\n",
    "            x = x.unsqueeze(1)  # (batch_size, 1, window_size)\n",
    "        \n",
    "        b, c, s = x.shape\n",
    "        zz = torch.zeros((b, c, s))\n",
    "        sp = s // 2\n",
    "        zz[:, :, -sp:] = torch.ones((b, c, sp))\n",
    "        \n",
    "        x = torch.cat((x, zz), dim=1)\n",
    "        \n",
    "        x = self.input_projection(x)  # (batch_size, d_model, window_size // 2)\n",
    "        \n",
    "        # Add positional encoding\n",
    "        x = self.pos_encoder(x.permute(2, 0, 1)).permute(1, 0, 2)  # (batch_size, window_size, d_model)\n",
    "        \n",
    "        # Apply dropout\n",
    "        x = self.dropout(x)\n",
    "        \n",
    "        # Apply transformer\n",
    "        x = self.transformer_encoder(x)  # (batch_size, window_size, d_model)\n",
    "        \n",
    "        # Global average pooling or use [CLS] token approach\n",
    "        # Here we use global average pooling\n",
    "        x = x[:, -1, :] # (batch_size, d_model)\n",
    "        # x = torch.mean(x, dim=1)  # (batch_size, d_model)\n",
    "        \n",
    "        # Classification\n",
    "        x = self.classifier(x)  # (batch_size, output_size)\n",
    "        \n",
    "        return x"
   ],
   "id": "9b95592e68f7d8ed",
   "outputs": [],
   "execution_count": 47
  },
  {
   "metadata": {
    "ExecuteTime": {
     "end_time": "2025-08-28T10:43:17.630108500Z",
     "start_time": "2025-08-28T10:39:10.522097Z"
    }
   },
   "cell_type": "code",
   "source": [
    "from tqdm import tqdm\n",
    "\n",
    "model   = SimpleNN(input_size=window_size, hidden_dim=64, output_size=1,\n",
    "                   num_layers=2, noise=0.0, dropout_prob=0.0)\n",
    "model = StructuralBreakCNN(\n",
    "    input_size=window_size, \n",
    "    num_filters=64,\n",
    "    kernel_sizes=[3],  # Multi-scale feature extraction\n",
    "    hidden_dim=128,\n",
    "    dropout_prob=0.2,\n",
    "    output_size=1\n",
    ")\n",
    "model = StructuralBreakLSTM()\n",
    "\n",
    "# model = StandardTransformer(\n",
    "#         input_size=window_size,\n",
    "#         d_model=64,\n",
    "#         nhead=2,\n",
    "#         num_layers=4,\n",
    "#         dropout_prob=0.2,\n",
    "#         output_size=1\n",
    "#     )\n",
    "\n",
    "print(sum(p.numel() for p in model.parameters() if p.requires_grad))\n",
    "\n",
    "loss_fct = nn.BCEWithLogitsLoss()\n",
    "optimizer = torch.optim.Adam(model.parameters(), lr=3e-4, weight_decay=1e-6)\n",
    "\n",
    "for epoch in range(20):\n",
    "    # ---- TRAINING ----\n",
    "    model.train()\n",
    "    total_loss = 0.0\n",
    "    for X, y in tqdm(train_loader):\n",
    "\n",
    "        optimizer.zero_grad()          # reset grads\n",
    "        logits = model(X)              # forward\n",
    "        loss   = loss_fct(logits.squeeze(), y.squeeze())\n",
    "        loss.backward()                # backward\n",
    "        optimizer.step()               # update params\n",
    "\n",
    "        total_loss += loss.item()\n",
    "\n",
    "    avg_train_loss = total_loss / len(train_loader)\n",
    "    \n",
    "    # ---- EVALUATION ----\n",
    "    model.eval()\n",
    "    y_trues, y_scores = [], []\n",
    "    with torch.no_grad():\n",
    "        for X, y in test_loader:\n",
    "            logits = model(X)\n",
    "\n",
    "            # collect\n",
    "            y_trues.append(y.view(-1).cpu())\n",
    "            y_scores.append(logits.view(-1).cpu())\n",
    "    \n",
    "    # concatenate everything\n",
    "    y_true  = torch.cat(y_trues).numpy()\n",
    "    y_score = torch.cat(y_scores).numpy()\n",
    "    roc_auc = roc_auc_score(y_true, y_score)\n",
    "\n",
    "    print(f\"Epoch {epoch+1:2d} — Train loss: {avg_train_loss:.4f}    ROC-AUC: {roc_auc:.4f}\")\n"
   ],
   "id": "5992a3d10b6b01a7",
   "outputs": [
    {
     "name": "stdout",
     "output_type": "stream",
     "text": [
      "144001\n"
     ]
    },
    {
     "name": "stderr",
     "output_type": "stream",
     "text": [
      "100%|██████████| 126/126 [01:00<00:00,  2.08it/s]\n"
     ]
    },
    {
     "name": "stdout",
     "output_type": "stream",
     "text": [
      "Epoch  1 — Train loss: 0.6105    ROC-AUC: 0.4972\n"
     ]
    },
    {
     "name": "stderr",
     "output_type": "stream",
     "text": [
      "100%|██████████| 126/126 [01:00<00:00,  2.08it/s]\n"
     ]
    },
    {
     "name": "stdout",
     "output_type": "stream",
     "text": [
      "Epoch  2 — Train loss: 0.6049    ROC-AUC: 0.4947\n"
     ]
    },
    {
     "name": "stderr",
     "output_type": "stream",
     "text": [
      "100%|██████████| 126/126 [01:09<00:00,  1.82it/s]\n"
     ]
    },
    {
     "name": "stdout",
     "output_type": "stream",
     "text": [
      "Epoch  3 — Train loss: 0.6039    ROC-AUC: 0.4973\n"
     ]
    },
    {
     "name": "stderr",
     "output_type": "stream",
     "text": [
      " 71%|███████▏  | 90/126 [00:44<00:17,  2.01it/s]\n"
     ]
    },
    {
     "ename": "KeyboardInterrupt",
     "evalue": "",
     "output_type": "error",
     "traceback": [
      "\u001B[31m---------------------------------------------------------------------------\u001B[39m",
      "\u001B[31mKeyboardInterrupt\u001B[39m                         Traceback (most recent call last)",
      "\u001B[36mCell\u001B[39m\u001B[36m \u001B[39m\u001B[32mIn[53]\u001B[39m\u001B[32m, line 38\u001B[39m\n\u001B[32m     36\u001B[39m logits = model(X)              \u001B[38;5;66;03m# forward\u001B[39;00m\n\u001B[32m     37\u001B[39m loss   = loss_fct(logits.squeeze(), y.squeeze())\n\u001B[32m---> \u001B[39m\u001B[32m38\u001B[39m \u001B[43mloss\u001B[49m\u001B[43m.\u001B[49m\u001B[43mbackward\u001B[49m\u001B[43m(\u001B[49m\u001B[43m)\u001B[49m                \u001B[38;5;66;03m# backward\u001B[39;00m\n\u001B[32m     39\u001B[39m optimizer.step()               \u001B[38;5;66;03m# update params\u001B[39;00m\n\u001B[32m     41\u001B[39m total_loss += loss.item()\n",
      "\u001B[36mFile \u001B[39m\u001B[32m~\\Documents\\Git\\Python\\ADIA Lab Structural Break Challenge\\.venv\\Lib\\site-packages\\torch\\_tensor.py:647\u001B[39m, in \u001B[36mTensor.backward\u001B[39m\u001B[34m(self, gradient, retain_graph, create_graph, inputs)\u001B[39m\n\u001B[32m    637\u001B[39m \u001B[38;5;28;01mif\u001B[39;00m has_torch_function_unary(\u001B[38;5;28mself\u001B[39m):\n\u001B[32m    638\u001B[39m     \u001B[38;5;28;01mreturn\u001B[39;00m handle_torch_function(\n\u001B[32m    639\u001B[39m         Tensor.backward,\n\u001B[32m    640\u001B[39m         (\u001B[38;5;28mself\u001B[39m,),\n\u001B[32m   (...)\u001B[39m\u001B[32m    645\u001B[39m         inputs=inputs,\n\u001B[32m    646\u001B[39m     )\n\u001B[32m--> \u001B[39m\u001B[32m647\u001B[39m \u001B[43mtorch\u001B[49m\u001B[43m.\u001B[49m\u001B[43mautograd\u001B[49m\u001B[43m.\u001B[49m\u001B[43mbackward\u001B[49m\u001B[43m(\u001B[49m\n\u001B[32m    648\u001B[39m \u001B[43m    \u001B[49m\u001B[38;5;28;43mself\u001B[39;49m\u001B[43m,\u001B[49m\u001B[43m \u001B[49m\u001B[43mgradient\u001B[49m\u001B[43m,\u001B[49m\u001B[43m \u001B[49m\u001B[43mretain_graph\u001B[49m\u001B[43m,\u001B[49m\u001B[43m \u001B[49m\u001B[43mcreate_graph\u001B[49m\u001B[43m,\u001B[49m\u001B[43m \u001B[49m\u001B[43minputs\u001B[49m\u001B[43m=\u001B[49m\u001B[43minputs\u001B[49m\n\u001B[32m    649\u001B[39m \u001B[43m\u001B[49m\u001B[43m)\u001B[49m\n",
      "\u001B[36mFile \u001B[39m\u001B[32m~\\Documents\\Git\\Python\\ADIA Lab Structural Break Challenge\\.venv\\Lib\\site-packages\\torch\\autograd\\__init__.py:354\u001B[39m, in \u001B[36mbackward\u001B[39m\u001B[34m(tensors, grad_tensors, retain_graph, create_graph, grad_variables, inputs)\u001B[39m\n\u001B[32m    349\u001B[39m     retain_graph = create_graph\n\u001B[32m    351\u001B[39m \u001B[38;5;66;03m# The reason we repeat the same comment below is that\u001B[39;00m\n\u001B[32m    352\u001B[39m \u001B[38;5;66;03m# some Python versions print out the first line of a multi-line function\u001B[39;00m\n\u001B[32m    353\u001B[39m \u001B[38;5;66;03m# calls in the traceback and some print out the last line\u001B[39;00m\n\u001B[32m--> \u001B[39m\u001B[32m354\u001B[39m \u001B[43m_engine_run_backward\u001B[49m\u001B[43m(\u001B[49m\n\u001B[32m    355\u001B[39m \u001B[43m    \u001B[49m\u001B[43mtensors\u001B[49m\u001B[43m,\u001B[49m\n\u001B[32m    356\u001B[39m \u001B[43m    \u001B[49m\u001B[43mgrad_tensors_\u001B[49m\u001B[43m,\u001B[49m\n\u001B[32m    357\u001B[39m \u001B[43m    \u001B[49m\u001B[43mretain_graph\u001B[49m\u001B[43m,\u001B[49m\n\u001B[32m    358\u001B[39m \u001B[43m    \u001B[49m\u001B[43mcreate_graph\u001B[49m\u001B[43m,\u001B[49m\n\u001B[32m    359\u001B[39m \u001B[43m    \u001B[49m\u001B[43minputs_tuple\u001B[49m\u001B[43m,\u001B[49m\n\u001B[32m    360\u001B[39m \u001B[43m    \u001B[49m\u001B[43mallow_unreachable\u001B[49m\u001B[43m=\u001B[49m\u001B[38;5;28;43;01mTrue\u001B[39;49;00m\u001B[43m,\u001B[49m\n\u001B[32m    361\u001B[39m \u001B[43m    \u001B[49m\u001B[43maccumulate_grad\u001B[49m\u001B[43m=\u001B[49m\u001B[38;5;28;43;01mTrue\u001B[39;49;00m\u001B[43m,\u001B[49m\n\u001B[32m    362\u001B[39m \u001B[43m\u001B[49m\u001B[43m)\u001B[49m\n",
      "\u001B[36mFile \u001B[39m\u001B[32m~\\Documents\\Git\\Python\\ADIA Lab Structural Break Challenge\\.venv\\Lib\\site-packages\\torch\\autograd\\graph.py:829\u001B[39m, in \u001B[36m_engine_run_backward\u001B[39m\u001B[34m(t_outputs, *args, **kwargs)\u001B[39m\n\u001B[32m    827\u001B[39m     unregister_hooks = _register_logging_hooks_on_whole_graph(t_outputs)\n\u001B[32m    828\u001B[39m \u001B[38;5;28;01mtry\u001B[39;00m:\n\u001B[32m--> \u001B[39m\u001B[32m829\u001B[39m     \u001B[38;5;28;01mreturn\u001B[39;00m \u001B[43mVariable\u001B[49m\u001B[43m.\u001B[49m\u001B[43m_execution_engine\u001B[49m\u001B[43m.\u001B[49m\u001B[43mrun_backward\u001B[49m\u001B[43m(\u001B[49m\u001B[43m  \u001B[49m\u001B[38;5;66;43;03m# Calls into the C++ engine to run the backward pass\u001B[39;49;00m\n\u001B[32m    830\u001B[39m \u001B[43m        \u001B[49m\u001B[43mt_outputs\u001B[49m\u001B[43m,\u001B[49m\u001B[43m \u001B[49m\u001B[43m*\u001B[49m\u001B[43margs\u001B[49m\u001B[43m,\u001B[49m\u001B[43m \u001B[49m\u001B[43m*\u001B[49m\u001B[43m*\u001B[49m\u001B[43mkwargs\u001B[49m\n\u001B[32m    831\u001B[39m \u001B[43m    \u001B[49m\u001B[43m)\u001B[49m  \u001B[38;5;66;03m# Calls into the C++ engine to run the backward pass\u001B[39;00m\n\u001B[32m    832\u001B[39m \u001B[38;5;28;01mfinally\u001B[39;00m:\n\u001B[32m    833\u001B[39m     \u001B[38;5;28;01mif\u001B[39;00m attach_logging_hooks:\n",
      "\u001B[31mKeyboardInterrupt\u001B[39m: "
     ]
    }
   ],
   "execution_count": 53
  },
  {
   "metadata": {
    "ExecuteTime": {
     "end_time": "2025-08-28T10:37:53.496902Z",
     "start_time": "2025-08-28T10:37:53.485283Z"
    }
   },
   "cell_type": "code",
   "source": [
    "class StructuralBreakLSTM(nn.Module):\n",
    "    def __init__(self, input_size=1, hidden_size=64, num_layers=2, \n",
    "                 dropout_prob=0.1, output_size=1, bidirectional=True):\n",
    "        \"\"\"\n",
    "        LSTM for structural break detection\n",
    "        \n",
    "        Parameters:\n",
    "        - input_size: Number of input features per timestep (1 for univariate)\n",
    "        - hidden_size: Number of hidden units in LSTM\n",
    "        - num_layers: Number of LSTM layers\n",
    "        - dropout_prob: Dropout probability\n",
    "        - output_size: Number of outputs (1 for binary classification)\n",
    "        - bidirectional: Whether to use bidirectional LSTM\n",
    "        \"\"\"\n",
    "        super(StructuralBreakLSTM, self).__init__()\n",
    "        \n",
    "        self.input_size = input_size\n",
    "        self.hidden_size = hidden_size\n",
    "        self.num_layers = num_layers\n",
    "        self.bidirectional = bidirectional\n",
    "        self.num_directions = 2 if bidirectional else 1\n",
    "        \n",
    "        # LSTM layer\n",
    "        self.lstm = nn.LSTM(\n",
    "            input_size=input_size,\n",
    "            hidden_size=hidden_size,\n",
    "            num_layers=num_layers,\n",
    "            dropout=dropout_prob if num_layers > 1 else 0,\n",
    "            batch_first=True,\n",
    "            bidirectional=bidirectional\n",
    "        )\n",
    "        \n",
    "        # Output dimensions after LSTM\n",
    "        lstm_output_size = hidden_size * self.num_directions\n",
    "        \n",
    "        # Classification head\n",
    "        self.classifier = nn.Sequential(\n",
    "            nn.Linear(lstm_output_size, lstm_output_size // 2),\n",
    "            nn.ReLU(),\n",
    "            nn.Dropout(dropout_prob),\n",
    "            nn.Linear(lstm_output_size // 2, lstm_output_size // 4),\n",
    "            nn.ReLU(),\n",
    "            nn.Dropout(dropout_prob),\n",
    "            nn.Linear(lstm_output_size // 4, output_size)\n",
    "        )\n",
    "        \n",
    "        # Initialize weights\n",
    "        self._init_weights()\n",
    "    \n",
    "    def _init_weights(self):\n",
    "        \"\"\"Initialize LSTM and linear layer weights\"\"\"\n",
    "        for name, param in self.lstm.named_parameters():\n",
    "            if 'weight_ih' in name:\n",
    "                nn.init.xavier_uniform_(param.data)\n",
    "            elif 'weight_hh' in name:\n",
    "                nn.init.orthogonal_(param.data)\n",
    "            elif 'bias' in name:\n",
    "                param.data.fill_(0)\n",
    "                # Set forget gate bias to 1\n",
    "                n = param.size(0)\n",
    "                start, end = n // 4, n // 2\n",
    "                param.data[start:end].fill_(1.0)\n",
    "        \n",
    "        for module in self.classifier:\n",
    "            if isinstance(module, nn.Linear):\n",
    "                nn.init.xavier_uniform_(module.weight)\n",
    "                nn.init.zeros_(module.bias)\n",
    "    \n",
    "    def forward(self, x):\n",
    "        batch_size, seq_len = x.size()\n",
    "        \n",
    "        # Reshape input: (batch_size, seq_len) -> (batch_size, seq_len, input_size)\n",
    "        if len(x.shape) == 2:\n",
    "            x = x.unsqueeze(-1)\n",
    "        \n",
    "        # Initialize hidden and cell states\n",
    "        h0 = torch.zeros(self.num_layers * self.num_directions, batch_size, \n",
    "                        self.hidden_size, device=x.device)\n",
    "        c0 = torch.zeros(self.num_layers * self.num_directions, batch_size, \n",
    "                        self.hidden_size, device=x.device)\n",
    "        \n",
    "        # LSTM forward pass\n",
    "        lstm_out, (hn, cn) = self.lstm(x, (h0, c0))\n",
    "        # lstm_out shape: (batch_size, seq_len, hidden_size * num_directions)\n",
    "        \n",
    "        # Use the last timestep output for classification\n",
    "        # For bidirectional LSTM, this combines forward and backward final states\n",
    "        final_output = lstm_out[:, -1, :]  # (batch_size, hidden_size * num_directions)\n",
    "        \n",
    "        # Classification\n",
    "        output = self.classifier(final_output)  # (batch_size, output_size)\n",
    "        \n",
    "        return output"
   ],
   "id": "533b80622dfe0521",
   "outputs": [],
   "execution_count": 48
  },
  {
   "metadata": {},
   "cell_type": "code",
   "outputs": [],
   "execution_count": null,
   "source": "",
   "id": "71cb0ecbd835e5a2"
  }
 ],
 "metadata": {
  "kernelspec": {
   "display_name": "Python 3",
   "language": "python",
   "name": "python3"
  },
  "language_info": {
   "codemirror_mode": {
    "name": "ipython",
    "version": 2
   },
   "file_extension": ".py",
   "mimetype": "text/x-python",
   "name": "python",
   "nbconvert_exporter": "python",
   "pygments_lexer": "ipython2",
   "version": "2.7.6"
  }
 },
 "nbformat": 4,
 "nbformat_minor": 5
}
